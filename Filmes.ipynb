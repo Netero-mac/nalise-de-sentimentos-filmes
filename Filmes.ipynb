{
 "cells": [
  {
   "cell_type": "code",
   "execution_count": 2,
   "id": "04e03e21-26af-4822-9745-8f2c71ed0a95",
   "metadata": {},
   "outputs": [
    {
     "name": "stdout",
     "output_type": "stream",
     "text": [
      "Dataset carregado com sucesso!\n"
     ]
    }
   ],
   "source": [
    "# Célula 1: Importar o pandas e carregar o dataset\n",
    "import pandas as pd\n",
    "\n",
    "# Carrega o arquivo CSV para um DataFrame do pandas\n",
    "df = pd.read_csv('IMDB Dataset.csv')\n",
    "\n",
    "print(\"Dataset carregado com sucesso!\")"
   ]
  },
  {
   "cell_type": "code",
   "execution_count": 3,
   "id": "3646627e-66b6-482a-938e-90589e923821",
   "metadata": {},
   "outputs": [
    {
     "data": {
      "text/html": [
       "<div>\n",
       "<style scoped>\n",
       "    .dataframe tbody tr th:only-of-type {\n",
       "        vertical-align: middle;\n",
       "    }\n",
       "\n",
       "    .dataframe tbody tr th {\n",
       "        vertical-align: top;\n",
       "    }\n",
       "\n",
       "    .dataframe thead th {\n",
       "        text-align: right;\n",
       "    }\n",
       "</style>\n",
       "<table border=\"1\" class=\"dataframe\">\n",
       "  <thead>\n",
       "    <tr style=\"text-align: right;\">\n",
       "      <th></th>\n",
       "      <th>review</th>\n",
       "      <th>sentiment</th>\n",
       "    </tr>\n",
       "  </thead>\n",
       "  <tbody>\n",
       "    <tr>\n",
       "      <th>0</th>\n",
       "      <td>One of the other reviewers has mentioned that ...</td>\n",
       "      <td>positive</td>\n",
       "    </tr>\n",
       "    <tr>\n",
       "      <th>1</th>\n",
       "      <td>A wonderful little production. &lt;br /&gt;&lt;br /&gt;The...</td>\n",
       "      <td>positive</td>\n",
       "    </tr>\n",
       "    <tr>\n",
       "      <th>2</th>\n",
       "      <td>I thought this was a wonderful way to spend ti...</td>\n",
       "      <td>positive</td>\n",
       "    </tr>\n",
       "    <tr>\n",
       "      <th>3</th>\n",
       "      <td>Basically there's a family where a little boy ...</td>\n",
       "      <td>negative</td>\n",
       "    </tr>\n",
       "    <tr>\n",
       "      <th>4</th>\n",
       "      <td>Petter Mattei's \"Love in the Time of Money\" is...</td>\n",
       "      <td>positive</td>\n",
       "    </tr>\n",
       "  </tbody>\n",
       "</table>\n",
       "</div>"
      ],
      "text/plain": [
       "                                              review sentiment\n",
       "0  One of the other reviewers has mentioned that ...  positive\n",
       "1  A wonderful little production. <br /><br />The...  positive\n",
       "2  I thought this was a wonderful way to spend ti...  positive\n",
       "3  Basically there's a family where a little boy ...  negative\n",
       "4  Petter Mattei's \"Love in the Time of Money\" is...  positive"
      ]
     },
     "execution_count": 3,
     "metadata": {},
     "output_type": "execute_result"
    }
   ],
   "source": [
    "# Célula 2: Ver as 5 primeiras linhas do DataFrame\n",
    "df.head()"
   ]
  },
  {
   "cell_type": "code",
   "execution_count": 4,
   "id": "a50c5d66-97da-452b-bac3-0f6152ec0f29",
   "metadata": {},
   "outputs": [
    {
     "name": "stdout",
     "output_type": "stream",
     "text": [
      "O dataset possui 50000 linhas e 2 colunas.\n"
     ]
    }
   ],
   "source": [
    "# Célula 3: Exibir o número de linhas e colunas\n",
    "print(f\"O dataset possui {df.shape[0]} linhas e {df.shape[1]} colunas.\")"
   ]
  },
  {
   "cell_type": "code",
   "execution_count": 5,
   "id": "2e63f143-e2d6-4e55-a5ec-729ac05c9884",
   "metadata": {},
   "outputs": [
    {
     "name": "stdout",
     "output_type": "stream",
     "text": [
      "Distribuição dos sentimentos:\n",
      "sentiment\n",
      "positive    25000\n",
      "negative    25000\n",
      "Name: count, dtype: int64\n"
     ]
    }
   ],
   "source": [
    "# Célula 4: Contar a quantidade de cada sentimento\n",
    "print(\"Distribuição dos sentimentos:\")\n",
    "print(df['sentiment'].value_counts())"
   ]
  },
  {
   "cell_type": "code",
   "execution_count": 6,
   "id": "8340913a-0029-46dd-85b9-87ad1ebed5f3",
   "metadata": {},
   "outputs": [
    {
     "name": "stdout",
     "output_type": "stream",
     "text": [
      "--- Exemplo de Avaliação Positiva ---\n",
      "One of the other reviewers has mentioned that after watching just 1 Oz episode you'll be hooked. They are right, as this is exactly what happened with me.<br /><br />The first thing that struck me about Oz was its brutality and unflinching scenes of violence, which set in right from the word GO. Trust me, this is not a show for the faint hearted or timid. This show pulls no punches with regards to drugs, sex or violence. Its is hardcore, in the classic use of the word.<br /><br />It is called OZ as that is the nickname given to the Oswald Maximum Security State Penitentary. It focuses mainly on Emerald City, an experimental section of the prison where all the cells have glass fronts and face inwards, so privacy is not high on the agenda. Em City is home to many..Aryans, Muslims, gangstas, Latinos, Christians, Italians, Irish and more....so scuffles, death stares, dodgy dealings and shady agreements are never far away.<br /><br />I would say the main appeal of the show is due to the fact that it goes where other shows wouldn't dare. Forget pretty pictures painted for mainstream audiences, forget charm, forget romance...OZ doesn't mess around. The first episode I ever saw struck me as so nasty it was surreal, I couldn't say I was ready for it, but as I watched more, I developed a taste for Oz, and got accustomed to the high levels of graphic violence. Not just violence, but injustice (crooked guards who'll be sold out for a nickel, inmates who'll kill on order and get away with it, well mannered, middle class inmates being turned into prison bitches due to their lack of street skills or prison experience) Watching Oz, you may become comfortable with what is uncomfortable viewing....thats if you can get in touch with your darker side.\n",
      "\n",
      "==================================================\n",
      "\n",
      "--- Exemplo de Avaliação Negativa ---\n",
      "No one expects the Star Trek movies to be high art, but the fans do expect a movie that is as good as some of the best episodes. Unfortunately, this movie had a muddled, implausible plot that just left me cringing - this is by far the worst of the nine (so far) movies. Even the chance to watch the well known characters interact in another movie can't save this movie - including the goofy scenes with Kirk, Spock and McCoy at Yosemite.<br /><br />I would say this movie is not worth a rental, and hardly worth watching, however for the True Fan who needs to see all the movies, renting this movie is about the only way you'll see it - even the cable channels avoid this movie.\n"
     ]
    }
   ],
   "source": [
    "# Célula 5: Exibir uma avaliação positiva e uma negativa\n",
    "print(\"--- Exemplo de Avaliação Positiva ---\")\n",
    "print(df['review'][0]) # Mostra a primeira avaliação do dataset\n",
    "\n",
    "print(\"\\n\" + \"=\"*50 + \"\\n\") # Apenas uma linha para separar\n",
    "\n",
    "print(\"--- Exemplo de Avaliação Negativa ---\")\n",
    "print(df['review'][49999]) # Mostra a última avaliação do dataset"
   ]
  },
  {
   "cell_type": "code",
   "execution_count": 7,
   "id": "fe1329a6-566b-4702-8d98-f37964473261",
   "metadata": {},
   "outputs": [
    {
     "name": "stdout",
     "output_type": "stream",
     "text": [
      "Função 'limpar_texto' criada com sucesso!\n"
     ]
    }
   ],
   "source": [
    "# Célula 6: Definir a função para limpar o texto\n",
    "import re\n",
    "\n",
    "def limpar_texto(texto):\n",
    "    # 1. Remove tags HTML\n",
    "    texto_sem_html = re.sub(r'<.*?>', '', texto)\n",
    "\n",
    "    # 2. Remove pontuação e caracteres não alfabéticos (mantém letras e espaços)\n",
    "    texto_sem_pontuacao = re.sub(r'[^a-zA-Z\\s]', '', texto_sem_html)\n",
    "\n",
    "    # 3. Converte tudo para minúsculas\n",
    "    texto_limpo = texto_sem_pontuacao.lower()\n",
    "\n",
    "    return texto_limpo\n",
    "\n",
    "print(\"Função 'limpar_texto' criada com sucesso!\")"
   ]
  },
  {
   "cell_type": "code",
   "execution_count": 8,
   "id": "158c6b4f-f18a-4afd-b4e9-51789009a0b5",
   "metadata": {},
   "outputs": [
    {
     "name": "stdout",
     "output_type": "stream",
     "text": [
      "Limpeza aplicada! Nova coluna 'review_limpa' foi criada.\n"
     ]
    }
   ],
   "source": [
    "# Célula 7: Aplicar a função de limpeza na coluna 'review'\n",
    "df['review_limpa'] = df['review'].apply(limpar_texto)\n",
    "\n",
    "print(\"Limpeza aplicada! Nova coluna 'review_limpa' foi criada.\")"
   ]
  },
  {
   "cell_type": "code",
   "execution_count": 9,
   "id": "285be6a4-b030-4b0a-a30d-f4e14872e66e",
   "metadata": {},
   "outputs": [
    {
     "data": {
      "text/html": [
       "<div>\n",
       "<style scoped>\n",
       "    .dataframe tbody tr th:only-of-type {\n",
       "        vertical-align: middle;\n",
       "    }\n",
       "\n",
       "    .dataframe tbody tr th {\n",
       "        vertical-align: top;\n",
       "    }\n",
       "\n",
       "    .dataframe thead th {\n",
       "        text-align: right;\n",
       "    }\n",
       "</style>\n",
       "<table border=\"1\" class=\"dataframe\">\n",
       "  <thead>\n",
       "    <tr style=\"text-align: right;\">\n",
       "      <th></th>\n",
       "      <th>review</th>\n",
       "      <th>review_limpa</th>\n",
       "    </tr>\n",
       "  </thead>\n",
       "  <tbody>\n",
       "    <tr>\n",
       "      <th>0</th>\n",
       "      <td>One of the other reviewers has mentioned that ...</td>\n",
       "      <td>one of the other reviewers has mentioned that ...</td>\n",
       "    </tr>\n",
       "    <tr>\n",
       "      <th>1</th>\n",
       "      <td>A wonderful little production. &lt;br /&gt;&lt;br /&gt;The...</td>\n",
       "      <td>a wonderful little production the filming tech...</td>\n",
       "    </tr>\n",
       "    <tr>\n",
       "      <th>2</th>\n",
       "      <td>I thought this was a wonderful way to spend ti...</td>\n",
       "      <td>i thought this was a wonderful way to spend ti...</td>\n",
       "    </tr>\n",
       "    <tr>\n",
       "      <th>3</th>\n",
       "      <td>Basically there's a family where a little boy ...</td>\n",
       "      <td>basically theres a family where a little boy j...</td>\n",
       "    </tr>\n",
       "    <tr>\n",
       "      <th>4</th>\n",
       "      <td>Petter Mattei's \"Love in the Time of Money\" is...</td>\n",
       "      <td>petter matteis love in the time of money is a ...</td>\n",
       "    </tr>\n",
       "  </tbody>\n",
       "</table>\n",
       "</div>"
      ],
      "text/plain": [
       "                                              review  \\\n",
       "0  One of the other reviewers has mentioned that ...   \n",
       "1  A wonderful little production. <br /><br />The...   \n",
       "2  I thought this was a wonderful way to spend ti...   \n",
       "3  Basically there's a family where a little boy ...   \n",
       "4  Petter Mattei's \"Love in the Time of Money\" is...   \n",
       "\n",
       "                                        review_limpa  \n",
       "0  one of the other reviewers has mentioned that ...  \n",
       "1  a wonderful little production the filming tech...  \n",
       "2  i thought this was a wonderful way to spend ti...  \n",
       "3  basically theres a family where a little boy j...  \n",
       "4  petter matteis love in the time of money is a ...  "
      ]
     },
     "execution_count": 9,
     "metadata": {},
     "output_type": "execute_result"
    }
   ],
   "source": [
    "# Célula 8: Exibir as colunas original e limpa lado a lado\n",
    "df[['review', 'review_limpa']].head()"
   ]
  },
  {
   "cell_type": "code",
   "execution_count": 10,
   "id": "4170528a-d2cc-430d-b829-0fd918c8855a",
   "metadata": {},
   "outputs": [
    {
     "name": "stdout",
     "output_type": "stream",
     "text": [
      "Tamanho do conjunto de treino: 40000 avaliações\n",
      "Tamanho do conjunto de teste: 10000 avaliações\n"
     ]
    }
   ],
   "source": [
    "# Célula 9: Dividir os dados em conjuntos de treino e teste\n",
    "from sklearn.model_selection import train_test_split\n",
    "\n",
    "# X são as features \n",
    "X = df['review_limpa']\n",
    "\n",
    "# y é o alvo (o sentimento que queremos prever)\n",
    "y = df['sentiment']\n",
    "\n",
    "# Divide os dados em 80% para treino e 20% para teste\n",
    "X_train, X_test, y_train, y_test = train_test_split(\n",
    "    X, y, \n",
    "    test_size=0.2, # Define que 20% dos dados serão para teste\n",
    "    random_state=42 # Garante que a divisão seja a mesma toda vez que rodarmos\n",
    ")\n",
    "\n",
    "print(f\"Tamanho do conjunto de treino: {len(X_train)} avaliações\")\n",
    "print(f\"Tamanho do conjunto de teste: {len(X_test)} avaliações\")"
   ]
  },
  {
   "cell_type": "code",
   "execution_count": 11,
   "id": "87f80178-073c-4b27-9154-d15ca53a9bf4",
   "metadata": {},
   "outputs": [
    {
     "name": "stdout",
     "output_type": "stream",
     "text": [
      "Vetorização concluída!\n",
      "Formato dos dados de treino vetorizados: (40000, 5000)\n",
      "Formato dos dados de teste vetorizados: (10000, 5000)\n"
     ]
    }
   ],
   "source": [
    "# Célula 10: Vetorizar o texto usando TF-IDF\n",
    "from sklearn.feature_extraction.text import TfidfVectorizer\n",
    "\n",
    "# Inicializa o vetorizador\n",
    "# max_features=5000 diz para ele considerar apenas as 5000 palavras mais importantes\n",
    "vectorizer = TfidfVectorizer(max_features=5000)\n",
    "\n",
    "# Aprende o vocabulário e transforma os dados de TREINO\n",
    "X_train_vetorizado = vectorizer.fit_transform(X_train)\n",
    "\n",
    "# Apenas transforma os dados de TESTE com o vocabulário já aprendido\n",
    "X_test_vetorizado = vectorizer.transform(X_test)\n",
    "\n",
    "print(\"Vetorização concluída!\")\n",
    "print(f\"Formato dos dados de treino vetorizados: {X_train_vetorizado.shape}\")\n",
    "print(f\"Formato dos dados de teste vetorizados: {X_test_vetorizado.shape}\")"
   ]
  },
  {
   "cell_type": "code",
   "execution_count": 12,
   "id": "4115d9fc-3bf3-46f2-9f79-b6f82f06fc91",
   "metadata": {},
   "outputs": [
    {
     "name": "stdout",
     "output_type": "stream",
     "text": [
      "Modelo treinado com sucesso!\n"
     ]
    }
   ],
   "source": [
    "# Célula 11: Importar, instanciar e treinar o modelo Naive Bayes\n",
    "from sklearn.naive_bayes import MultinomialNB\n",
    "\n",
    "# Cria o modelo\n",
    "model = MultinomialNB()\n",
    "\n",
    "# Treina o modelo com os dados de treino vetorizados e seus respectivos rótulos\n",
    "model.fit(X_train_vetorizado, y_train)\n",
    "\n",
    "print(\"Modelo treinado com sucesso!\")"
   ]
  },
  {
   "cell_type": "code",
   "execution_count": 13,
   "id": "748103ba-e130-4d53-bfda-f17d6bbf53d9",
   "metadata": {},
   "outputs": [
    {
     "name": "stdout",
     "output_type": "stream",
     "text": [
      "Previsões feitas no conjunto de teste!\n",
      "Primeiras 10 previsões: ['negative' 'positive' 'negative' 'positive' 'negative' 'positive'\n",
      " 'positive' 'negative' 'negative' 'negative']\n"
     ]
    }
   ],
   "source": [
    "# Célula 12: Fazer previsões no conjunto de teste\n",
    "y_pred = model.predict(X_test_vetorizado)\n",
    "\n",
    "print(\"Previsões feitas no conjunto de teste!\")\n",
    "# Vamos ver as primeiras 10 previsões feitas pelo modelo\n",
    "print(\"Primeiras 10 previsões:\", y_pred[:10])"
   ]
  },
  {
   "cell_type": "code",
   "execution_count": 14,
   "id": "4d830933-02be-4df8-a9a8-807ed03dc2a3",
   "metadata": {},
   "outputs": [
    {
     "name": "stdout",
     "output_type": "stream",
     "text": [
      "Acurácia do modelo: 84.87%\n",
      "\n",
      "Relatório de Classificação:\n",
      "              precision    recall  f1-score   support\n",
      "\n",
      "    negative       0.85      0.85      0.85      4961\n",
      "    positive       0.85      0.85      0.85      5039\n",
      "\n",
      "    accuracy                           0.85     10000\n",
      "   macro avg       0.85      0.85      0.85     10000\n",
      "weighted avg       0.85      0.85      0.85     10000\n",
      "\n"
     ]
    }
   ],
   "source": [
    "# Célula 13: Avaliar a performance do modelo\n",
    "from sklearn.metrics import accuracy_score, classification_report\n",
    "\n",
    "# Calcula a acurácia\n",
    "accuracy = accuracy_score(y_test, y_pred)\n",
    "print(f\"Acurácia do modelo: {accuracy * 100:.2f}%\")\n",
    "\n",
    "# Exibe o relatório de classificação detalhado\n",
    "print(\"\\nRelatório de Classificação:\")\n",
    "print(classification_report(y_test, y_pred))"
   ]
  },
  {
   "cell_type": "code",
   "execution_count": 15,
   "id": "b40b2aee-817d-441c-a5f5-f69a15ecb94b",
   "metadata": {},
   "outputs": [],
   "source": [
    "# Célula 14: Criar uma função para testar o modelo com novas frases\n",
    "\n",
    "def prever_sentimento(frase_em_ingles):\n",
    "    # 1. Limpa a frase usando a mesma função que criamos antes\n",
    "    frase_limpa = limpar_texto(frase_em_ingles)\n",
    "    \n",
    "    # 2. Vetoriza a frase limpa usando o mesmo vetorizador do treino\n",
    "    # Note que colocamos a frase_limpa dentro de colchetes [] porque o .transform espera uma lista\n",
    "    frase_vetorizada = vectorizer.transform([frase_limpa])\n",
    "    \n",
    "    # 3. Faz a previsão com o modelo treinado\n",
    "    previsao = model.predict(frase_vetorizada)\n",
    "    \n",
    "    # Retorna o resultado\n",
    "    return previsao[0]"
   ]
  },
  {
   "cell_type": "code",
   "execution_count": 16,
   "id": "9b44c5c8-a273-4d71-82b7-a34604600003",
   "metadata": {},
   "outputs": [
    {
     "name": "stdout",
     "output_type": "stream",
     "text": [
      "A frase: 'This movie was absolutely fantastic! The acting was superb and the story was beautiful.'\n",
      "Previsão do modelo: positive\n",
      "\n",
      "A frase: 'I would not recommend this movie to anyone. It was boring, slow and a complete waste of my time.'\n",
      "Previsão do modelo: negative\n",
      "\n",
      "A frase: 'The special effects were good, but the plot was very predictable.'\n",
      "Previsão do modelo: negative\n",
      "\n"
     ]
    }
   ],
   "source": [
    "# Célula 15: Testando a função com exemplos\n",
    "\n",
    "# Exemplo 1: Frase claramente positiva\n",
    "frase_positiva = \"This movie was absolutely fantastic! The acting was superb and the story was beautiful.\"\n",
    "print(f\"A frase: '{frase_positiva}'\")\n",
    "print(f\"Previsão do modelo: {prever_sentimento(frase_positiva)}\\n\")\n",
    "\n",
    "# Exemplo 2: Frase claramente negativa\n",
    "frase_negativa = \"I would not recommend this movie to anyone. It was boring, slow and a complete waste of my time.\"\n",
    "print(f\"A frase: '{frase_negativa}'\")\n",
    "print(f\"Previsão do modelo: {prever_sentimento(frase_negativa)}\\n\")\n",
    "\n",
    "# Exemplo 3: Frase mais neutra/mista\n",
    "frase_neutra = \"The special effects were good, but the plot was very predictable.\"\n",
    "print(f\"A frase: '{frase_neutra}'\")\n",
    "print(f\"Previsão do modelo: {prever_sentimento(frase_neutra)}\\n\")"
   ]
  },
  {
   "cell_type": "code",
   "execution_count": 19,
   "id": "20f6c3c0-a8e9-42c0-95fd-f534a8ed3642",
   "metadata": {},
   "outputs": [
    {
     "name": "stdout",
     "output_type": "stream",
     "text": [
      "DatasetDict({\n",
      "    train: Dataset({\n",
      "        features: ['sentence', 'label', 'idx'],\n",
      "        num_rows: 67349\n",
      "    })\n",
      "    validation: Dataset({\n",
      "        features: ['sentence', 'label', 'idx'],\n",
      "        num_rows: 872\n",
      "    })\n",
      "    test: Dataset({\n",
      "        features: ['sentence', 'label', 'idx'],\n",
      "        num_rows: 1821\n",
      "    })\n",
      "})\n"
     ]
    },
    {
     "data": {
      "text/html": [
       "<div>\n",
       "<style scoped>\n",
       "    .dataframe tbody tr th:only-of-type {\n",
       "        vertical-align: middle;\n",
       "    }\n",
       "\n",
       "    .dataframe tbody tr th {\n",
       "        vertical-align: top;\n",
       "    }\n",
       "\n",
       "    .dataframe thead th {\n",
       "        text-align: right;\n",
       "    }\n",
       "</style>\n",
       "<table border=\"1\" class=\"dataframe\">\n",
       "  <thead>\n",
       "    <tr style=\"text-align: right;\">\n",
       "      <th></th>\n",
       "      <th>sentence</th>\n",
       "      <th>label</th>\n",
       "      <th>idx</th>\n",
       "    </tr>\n",
       "  </thead>\n",
       "  <tbody>\n",
       "    <tr>\n",
       "      <th>0</th>\n",
       "      <td>hide new secretions from the parental units</td>\n",
       "      <td>0</td>\n",
       "      <td>0</td>\n",
       "    </tr>\n",
       "    <tr>\n",
       "      <th>1</th>\n",
       "      <td>contains no wit , only labored gags</td>\n",
       "      <td>0</td>\n",
       "      <td>1</td>\n",
       "    </tr>\n",
       "    <tr>\n",
       "      <th>2</th>\n",
       "      <td>that loves its characters and communicates som...</td>\n",
       "      <td>1</td>\n",
       "      <td>2</td>\n",
       "    </tr>\n",
       "    <tr>\n",
       "      <th>3</th>\n",
       "      <td>remains utterly satisfied to remain the same t...</td>\n",
       "      <td>0</td>\n",
       "      <td>3</td>\n",
       "    </tr>\n",
       "    <tr>\n",
       "      <th>4</th>\n",
       "      <td>on the worst revenge-of-the-nerds clichés the ...</td>\n",
       "      <td>0</td>\n",
       "      <td>4</td>\n",
       "    </tr>\n",
       "  </tbody>\n",
       "</table>\n",
       "</div>"
      ],
      "text/plain": [
       "                                            sentence  label  idx\n",
       "0       hide new secretions from the parental units       0    0\n",
       "1               contains no wit , only labored gags       0    1\n",
       "2  that loves its characters and communicates som...      1    2\n",
       "3  remains utterly satisfied to remain the same t...      0    3\n",
       "4  on the worst revenge-of-the-nerds clichés the ...      0    4"
      ]
     },
     "execution_count": 19,
     "metadata": {},
     "output_type": "execute_result"
    }
   ],
   "source": [
    "# Célula nova: Carregar o dataset SST2 (versão binária) do GLUE\n",
    "from datasets import load_dataset\n",
    "import pandas as pd\n",
    "\n",
    "# Carrega a configuração 'sst2' do dataset 'glue'\n",
    "dataset_sst = load_dataset('glue', 'sst2')\n",
    "\n",
    "# O dataset já vem dividido em treino, validação e teste\n",
    "print(dataset_sst)\n",
    "\n",
    "# Vamos converter o conjunto de treino para um DataFrame do Pandas para explorar\n",
    "df_sst_train = pd.DataFrame(dataset_sst['train'])\n",
    "\n",
    "# Em sst2, label 0 é negativo e label 1 é positivo.\n",
    "df_sst_train.head()"
   ]
  },
  {
   "cell_type": "code",
   "execution_count": 20,
   "id": "0f532080-fab3-4147-a1c2-c1db3ad659f0",
   "metadata": {},
   "outputs": [
    {
     "name": "stdout",
     "output_type": "stream",
     "text": [
      "DataFrame adaptado com sucesso!\n"
     ]
    },
    {
     "data": {
      "text/html": [
       "<div>\n",
       "<style scoped>\n",
       "    .dataframe tbody tr th:only-of-type {\n",
       "        vertical-align: middle;\n",
       "    }\n",
       "\n",
       "    .dataframe tbody tr th {\n",
       "        vertical-align: top;\n",
       "    }\n",
       "\n",
       "    .dataframe thead th {\n",
       "        text-align: right;\n",
       "    }\n",
       "</style>\n",
       "<table border=\"1\" class=\"dataframe\">\n",
       "  <thead>\n",
       "    <tr style=\"text-align: right;\">\n",
       "      <th></th>\n",
       "      <th>review</th>\n",
       "      <th>sentiment</th>\n",
       "    </tr>\n",
       "  </thead>\n",
       "  <tbody>\n",
       "    <tr>\n",
       "      <th>0</th>\n",
       "      <td>hide new secretions from the parental units</td>\n",
       "      <td>negative</td>\n",
       "    </tr>\n",
       "    <tr>\n",
       "      <th>1</th>\n",
       "      <td>contains no wit , only labored gags</td>\n",
       "      <td>negative</td>\n",
       "    </tr>\n",
       "    <tr>\n",
       "      <th>2</th>\n",
       "      <td>that loves its characters and communicates som...</td>\n",
       "      <td>positive</td>\n",
       "    </tr>\n",
       "    <tr>\n",
       "      <th>3</th>\n",
       "      <td>remains utterly satisfied to remain the same t...</td>\n",
       "      <td>negative</td>\n",
       "    </tr>\n",
       "    <tr>\n",
       "      <th>4</th>\n",
       "      <td>on the worst revenge-of-the-nerds clichés the ...</td>\n",
       "      <td>negative</td>\n",
       "    </tr>\n",
       "  </tbody>\n",
       "</table>\n",
       "</div>"
      ],
      "text/plain": [
       "                                              review sentiment\n",
       "0       hide new secretions from the parental units   negative\n",
       "1               contains no wit , only labored gags   negative\n",
       "2  that loves its characters and communicates som...  positive\n",
       "3  remains utterly satisfied to remain the same t...  negative\n",
       "4  on the worst revenge-of-the-nerds clichés the ...  negative"
      ]
     },
     "execution_count": 20,
     "metadata": {},
     "output_type": "execute_result"
    }
   ],
   "source": [
    "# Célula nova: Adaptar o DataFrame sst2 para o formato do nosso pipeline\n",
    "\n",
    "# 1. Renomeia a coluna 'sentence' para 'review' para manter a consistência\n",
    "df_sst_train.rename(columns={'sentence': 'review'}, inplace=True)\n",
    "\n",
    "# 2. Mapeia os labels numéricos para texto, criando a coluna 'sentiment'\n",
    "#    0 -> 'negative'\n",
    "#    1 -> 'positive'\n",
    "df_sst_train['sentiment'] = df_sst_train['label'].map({0: 'negative', 1: 'positive'})\n",
    "\n",
    "# 3. Vamos verificar o resultado. Agora temos as colunas 'review' e 'sentiment'!\n",
    "print(\"DataFrame adaptado com sucesso!\")\n",
    "df_sst_train[['review', 'sentiment']].head()"
   ]
  },
  {
   "cell_type": "code",
   "execution_count": null,
   "id": "7b5e436c-e458-430c-b878-44b8244e3e61",
   "metadata": {},
   "outputs": [],
   "source": []
  }
 ],
 "metadata": {
  "kernelspec": {
   "display_name": "Python 3 (ipykernel)",
   "language": "python",
   "name": "python3"
  },
  "language_info": {
   "codemirror_mode": {
    "name": "ipython",
    "version": 3
   },
   "file_extension": ".py",
   "mimetype": "text/x-python",
   "name": "python",
   "nbconvert_exporter": "python",
   "pygments_lexer": "ipython3",
   "version": "3.13.7"
  }
 },
 "nbformat": 4,
 "nbformat_minor": 5
}
